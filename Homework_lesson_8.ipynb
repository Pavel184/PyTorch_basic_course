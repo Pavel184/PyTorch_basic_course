{
  "cells": [
    {
      "cell_type": "markdown",
      "metadata": {
        "id": "view-in-github",
        "colab_type": "text"
      },
      "source": [
        "<a href=\"https://colab.research.google.com/github/Pavel184/PyTorch_basic_course/blob/Homework_lesson_8/Homework_lesson_8.ipynb\" target=\"_parent\"><img src=\"https://colab.research.google.com/assets/colab-badge.svg\" alt=\"Open In Colab\"/></a>"
      ]
    },
    {
      "cell_type": "markdown",
      "metadata": {
        "id": "5gYpEiWKuvLG"
      },
      "source": [
        "# HOMEWORK_LESSON_8"
      ]
    },
    {
      "cell_type": "code",
      "execution_count": 1,
      "metadata": {
        "id": "3wsVZGFNuvLM"
      },
      "outputs": [],
      "source": [
        "import torch\n",
        "import torch.nn as nn\n",
        "import torch.nn.functional as F\n",
        "\n",
        "import numpy as np\n"
      ]
    },
    {
      "cell_type": "code",
      "source": [
        "from google.colab import drive\n",
        "drive.mount('/content/drive')"
      ],
      "metadata": {
        "colab": {
          "base_uri": "https://localhost:8080/"
        },
        "id": "Dph8G54LvqCu",
        "outputId": "6909675d-8e68-4253-94a4-8bf1cac4441f"
      },
      "execution_count": 2,
      "outputs": [
        {
          "output_type": "stream",
          "name": "stdout",
          "text": [
            "Drive already mounted at /content/drive; to attempt to forcibly remount, call drive.mount(\"/content/drive\", force_remount=True).\n"
          ]
        }
      ]
    },
    {
      "cell_type": "code",
      "execution_count": 3,
      "metadata": {
        "id": "rLtyBTNQuvLP"
      },
      "outputs": [],
      "source": [
        "batch_size = 64\n",
        "epochs = 30\n",
        "latent_dim = 256\n",
        "num_samples = 10000\n",
        "data_path = '/content/drive/MyDrive/Colab Notebooks/PyTorch/Lesson_8/data/fra-eng/fra.txt'"
      ]
    },
    {
      "cell_type": "code",
      "execution_count": 4,
      "metadata": {
        "id": "711JXv5tuvLQ"
      },
      "outputs": [],
      "source": [
        "# Собираем из текстов токены\n",
        "\n",
        "input_texts = []\n",
        "target_texts = []\n",
        "\n",
        "input_vocab = set()\n",
        "output_vocab = set()\n",
        "\n",
        "with open(data_path, 'r', encoding='utf-8') as f:\n",
        "    lines = f.read().split('\\n')\n",
        "for line in lines[: min(num_samples, len(lines) - 1)]:\n",
        "    input_text, target_text, _ = line.split('\\t')\n",
        "    target_text = '\\t' + target_text + '\\n'\n",
        "    input_texts.append(input_text)\n",
        "    for word in input_text.split():\n",
        "        input_vocab.add(word.strip())\n",
        "    target_texts.append(target_text)\n",
        "    for word in target_text.split():\n",
        "        output_vocab.add(word.strip())\n",
        "    \n",
        "input_vocab2index = {word: i+2 for i, word in enumerate(input_vocab)}\n",
        "output_vocab2index = {word: i+2 for i, word in enumerate(output_vocab)}"
      ]
    },
    {
      "cell_type": "code",
      "execution_count": 5,
      "metadata": {
        "id": "PZ9tqFjkuvLS"
      },
      "outputs": [],
      "source": [
        "def indexesFromSentence(sentence, vocab):\n",
        "    return [vocab[word.strip()] for word in sentence.split(' ')]\n",
        "\n",
        "def tensorFromSentence(sentence, vocab):\n",
        "    indexes = indexesFromSentence(sentence, vocab)\n",
        "    indexes.append(1)\n",
        "    return torch.tensor(indexes, dtype=torch.long).view(-1, 1)\n",
        "\n",
        "\n",
        "def tensorsFromSent(input_sentences, output_sentences):\n",
        "    input_tensor = tensorFromSentence(input_sentences, input_vocab2index)\n",
        "    target_tensor = tensorFromSentence(output_sentences, output_vocab2index)\n",
        "    return (input_tensor, target_tensor)"
      ]
    },
    {
      "cell_type": "code",
      "execution_count": 6,
      "metadata": {
        "id": "cCffcmKTuvLT"
      },
      "outputs": [],
      "source": [
        "class EncoderRNN(nn.Module):\n",
        "    def __init__(self, input_size, hidden_size):\n",
        "        super(EncoderRNN, self).__init__()\n",
        "        self.hidden_size = hidden_size\n",
        "\n",
        "        self.embedding = nn.Embedding(input_size, hidden_size)\n",
        "        self.gru = nn.GRU(hidden_size, hidden_size)\n",
        "\n",
        "    def forward(self, input, hidden):\n",
        "        embedded = self.embedding(input).view(1, 1, -1)\n",
        "        output = embedded\n",
        "        output, hidden = self.gru(output, hidden)\n",
        "        return output, hidden\n",
        "\n",
        "    def initHidden(self):\n",
        "        return torch.zeros(1, 1, self.hidden_size)\n",
        "\n",
        "class Attention(nn.Module):\n",
        "    def __init__(self, hidden_size, output_size,  max_length=10):#dropout_p=0.1,\n",
        "        super(Attention, self).__init__()\n",
        "        self.hidden_size = hidden_size\n",
        "        self.output_size = output_size\n",
        "        self.max_length = max_length\n",
        "\n",
        "        self.embedding = nn.Embedding(self.output_size, self.hidden_size)\n",
        "        self.attn = nn.Linear(self.hidden_size * 2, self.max_length)\n",
        "\n",
        "    def forward(self, input, hidden, encoder_outputs):\n",
        "        embedded = self.embedding(input).view(1, 1, -1)\n",
        "\n",
        "        attn_weights = F.softmax(\n",
        "            self.attn(torch.cat((embedded[0], hidden[0]), 1)), dim=1)\n",
        "        attn_applied = torch.bmm(attn_weights.unsqueeze(0),\n",
        "                                 encoder_outputs.unsqueeze(0))\n",
        "\n",
        "        attn = torch.cat((embedded[0], attn_applied[0]), 1)\n",
        "        return attn, attn_weights \n",
        "\n",
        "\n",
        "class AttnDecoderRNN(nn.Module):\n",
        "    def __init__(self, hidden_size, output_size, dropout_p=0.1, max_length=10):\n",
        "        super(AttnDecoderRNN, self).__init__()\n",
        "        self.hidden_size = hidden_size\n",
        "        self.output_size = output_size\n",
        "        self.dropout_p = dropout_p\n",
        "        self.max_length = max_length\n",
        "        self.embedding = nn.Embedding(self.output_size, self.hidden_size)\n",
        "        self.attn = Attention(self.hidden_size, self.output_size)\n",
        "        self.attn_combine = nn.Linear(self.hidden_size * 2, self.hidden_size)\n",
        "        self.dropout = nn.Dropout(self.dropout_p)\n",
        "        self.gru = nn.GRU(self.hidden_size, self.hidden_size)\n",
        "        self.out = nn.Linear(self.hidden_size, self.output_size)\n",
        "\n",
        "    def forward(self, input, hidden, encoder_outputs):\n",
        "        attn, attn_weights = self.attn(input, hidden, encoder_outputs)\n",
        "        \n",
        "        output = self.attn_combine(attn).unsqueeze(0)\n",
        "\n",
        "        #output = F.relu(output)\n",
        "        output, hidden = self.gru(output, hidden)\n",
        "\n",
        "        output = F.log_softmax(self.out(output[0]), dim=1)\n",
        "        return output, hidden, attn_weights\n",
        "\n",
        "    def initHidden(self):\n",
        "        return torch.zeros(1, 1, self.hidden_size)"
      ]
    },
    {
      "cell_type": "code",
      "execution_count": 7,
      "metadata": {
        "id": "t68f_YkUuvLV"
      },
      "outputs": [],
      "source": [
        "def train(input_tensor, target_tensor, encoder, decoder, encoder_optimizer, decoder_optimizer, criterion, max_length=10):\n",
        "    encoder_hidden = encoder.initHidden()\n",
        "\n",
        "    encoder_optimizer.zero_grad()\n",
        "    decoder_optimizer.zero_grad()\n",
        "\n",
        "    input_length = input_tensor.size(0)\n",
        "    target_length = target_tensor.size(0)\n",
        "\n",
        "    encoder_outputs = torch.zeros(max_length, encoder.hidden_size)\n",
        "\n",
        "    loss = 0\n",
        "\n",
        "    for ei in range(input_length):\n",
        "        encoder_output, encoder_hidden = encoder(\n",
        "            input_tensor[ei], encoder_hidden)\n",
        "        encoder_outputs[ei] = encoder_output[0, 0]\n",
        "\n",
        "    decoder_input = torch.tensor([[0]])\n",
        "\n",
        "    decoder_hidden = encoder_hidden\n",
        "\n",
        "    for di in range(target_length):\n",
        "        decoder_output, decoder_hidden, decoder_attention = decoder(\n",
        "            decoder_input, decoder_hidden, encoder_outputs)\n",
        "        topv, topi = decoder_output.topk(1)\n",
        "        decoder_input = topi.squeeze().detach()  # detach from history as input\n",
        "\n",
        "        loss += criterion(decoder_output, target_tensor[di])\n",
        "        if decoder_input.item() == 1:\n",
        "            break\n",
        "\n",
        "    loss.backward()\n",
        "\n",
        "    encoder_optimizer.step()\n",
        "    decoder_optimizer.step()\n",
        "\n",
        "    return loss.item() / target_length"
      ]
    },
    {
      "cell_type": "code",
      "execution_count": 9,
      "metadata": {
        "colab": {
          "base_uri": "https://localhost:8080/"
        },
        "id": "3niHBOTMuvLX",
        "outputId": "a2f444be-2dfb-441f-ca66-12916f44a894"
      },
      "outputs": [
        {
          "output_type": "stream",
          "name": "stdout",
          "text": [
            "(0 0%) 8.7463\n",
            "(1 10%) 8.6764\n",
            "(2 20%) 8.6699\n",
            "(3 30%) 8.5669\n",
            "(4 40%) 8.6754\n",
            "(5 50%) 8.5386\n",
            "(6 60%) 8.6961\n",
            "(7 70%) 8.6318\n",
            "(8 80%) 8.7189\n",
            "(9 90%) 8.6516\n"
          ]
        }
      ],
      "source": [
        "encoder = EncoderRNN(len(input_vocab2index)+2, 30)\n",
        "attn_decoder1 = AttnDecoderRNN(30, len(output_vocab2index)+2, dropout_p=0.1)\n",
        "\n",
        "encoder_optimizer = torch.optim.SGD(encoder.parameters(), lr=0.01)\n",
        "decoder_optimizer = torch.optim.SGD(attn_decoder1.parameters(), lr=0.01)\n",
        "training_pairs = np.random.randint(0, len(input_texts), size=10)\n",
        "criterion = nn.NLLLoss()\n",
        "\n",
        "print_loss_total = 0\n",
        "for i in range(10):\n",
        "    input_tensor, target_tensor = tensorsFromSent(input_texts[training_pairs[i]], target_texts[training_pairs[i]])\n",
        "\n",
        "    loss = train(input_tensor, target_tensor, encoder,\n",
        "               attn_decoder1, encoder_optimizer, decoder_optimizer, criterion)\n",
        "    print_loss_total += loss\n",
        "    \n",
        "    print_loss_avg = print_loss_total / 1\n",
        "    print_loss_total = 0\n",
        "    print('(%d %d%%) %.4f' % (i, i / 10 * 100, print_loss_avg))\n"
      ]
    }
  ],
  "metadata": {
    "kernelspec": {
      "display_name": "Python 3",
      "language": "python",
      "name": "python3"
    },
    "language_info": {
      "codemirror_mode": {
        "name": "ipython",
        "version": 3
      },
      "file_extension": ".py",
      "mimetype": "text/x-python",
      "name": "python",
      "nbconvert_exporter": "python",
      "pygments_lexer": "ipython3",
      "version": "3.7.4"
    },
    "colab": {
      "name": "Homework_lesson_8.ipynb",
      "provenance": [],
      "collapsed_sections": [],
      "include_colab_link": true
    },
    "accelerator": "GPU"
  },
  "nbformat": 4,
  "nbformat_minor": 0
}