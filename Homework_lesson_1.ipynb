{
  "cells": [
    {
      "cell_type": "markdown",
      "metadata": {
        "id": "view-in-github",
        "colab_type": "text"
      },
      "source": [
        "<a href=\"https://colab.research.google.com/github/Pavel184/PyTorch_basic_course/blob/Homework_lesson_1/Homework_lesson_1.ipynb\" target=\"_parent\"><img src=\"https://colab.research.google.com/assets/colab-badge.svg\" alt=\"Open In Colab\"/></a>"
      ]
    },
    {
      "cell_type": "code",
      "execution_count": 1,
      "metadata": {
        "id": "O_fvUyNerRxU"
      },
      "outputs": [],
      "source": [
        "import torch\n",
        "import numpy as np"
      ]
    },
    {
      "cell_type": "code",
      "execution_count": 2,
      "metadata": {
        "colab": {
          "base_uri": "https://localhost:8080/"
        },
        "id": "xf8TJ0w0rRxX",
        "outputId": "88e26455-ca24-4dbd-cbc7-84a87cef3acd"
      },
      "outputs": [
        {
          "output_type": "execute_result",
          "data": {
            "text/plain": [
              "tensor([[[ 0,  1,  2,  3,  4],\n",
              "         [ 5,  6,  7,  8,  9],\n",
              "         [10, 11, 12, 13, 14],\n",
              "         [15, 16, 17, 18, 19]],\n",
              "\n",
              "        [[20, 21, 22, 23, 24],\n",
              "         [25, 26, 27, 28, 29],\n",
              "         [30, 31, 32, 33, 34],\n",
              "         [35, 36, 37, 38, 39]],\n",
              "\n",
              "        [[40, 41, 42, 43, 44],\n",
              "         [45, 46, 47, 48, 49],\n",
              "         [50, 51, 52, 53, 54],\n",
              "         [55, 56, 57, 58, 59]]])"
            ]
          },
          "metadata": {},
          "execution_count": 2
        }
      ],
      "source": [
        "# Создайте случайный FloatTensor размера 3x4x5\n",
        "x = torch.arange(60).view(3,4,5)\n",
        "x"
      ]
    },
    {
      "cell_type": "code",
      "source": [
        "y = torch.DoubleTensor(3, 4, 5) # 64-bit float\n",
        "y"
      ],
      "metadata": {
        "colab": {
          "base_uri": "https://localhost:8080/"
        },
        "id": "3VAij4PDtBX9",
        "outputId": "7a3c0056-7411-4225-a2d0-69b0bf62590c"
      },
      "execution_count": 3,
      "outputs": [
        {
          "output_type": "execute_result",
          "data": {
            "text/plain": [
              "tensor([[[4.6597e-310,  0.0000e+00,  0.0000e+00,  0.0000e+00,  0.0000e+00],\n",
              "         [ 0.0000e+00,  0.0000e+00,  0.0000e+00,  0.0000e+00,  0.0000e+00],\n",
              "         [ 0.0000e+00,  0.0000e+00,  0.0000e+00,  0.0000e+00,  0.0000e+00],\n",
              "         [ 0.0000e+00,  0.0000e+00,  0.0000e+00,  0.0000e+00,  0.0000e+00]],\n",
              "\n",
              "        [[ 0.0000e+00,  0.0000e+00,  0.0000e+00,  0.0000e+00,  0.0000e+00],\n",
              "         [ 0.0000e+00,  0.0000e+00,  0.0000e+00,  0.0000e+00,  0.0000e+00],\n",
              "         [ 0.0000e+00,  0.0000e+00,  0.0000e+00,  0.0000e+00,  0.0000e+00],\n",
              "         [ 0.0000e+00,  0.0000e+00,  0.0000e+00,  0.0000e+00,  0.0000e+00]],\n",
              "\n",
              "        [[ 0.0000e+00,  0.0000e+00,  0.0000e+00,  0.0000e+00,  0.0000e+00],\n",
              "         [ 0.0000e+00,  0.0000e+00,  0.0000e+00,  0.0000e+00,  0.0000e+00],\n",
              "         [ 0.0000e+00,  0.0000e+00,  0.0000e+00,  0.0000e+00,  0.0000e+00],\n",
              "         [ 0.0000e+00,  0.0000e+00,  0.0000e+00,  0.0000e+00,  0.0000e+00]]],\n",
              "       dtype=torch.float64)"
            ]
          },
          "metadata": {},
          "execution_count": 3
        }
      ]
    },
    {
      "cell_type": "code",
      "execution_count": 4,
      "metadata": {
        "colab": {
          "base_uri": "https://localhost:8080/"
        },
        "id": "Hm0f27PurRxY",
        "outputId": "28ce28b9-7b81-410a-8d74-b548afc02dd7"
      },
      "outputs": [
        {
          "output_type": "execute_result",
          "data": {
            "text/plain": [
              "torch.Size([3, 4, 5])"
            ]
          },
          "metadata": {},
          "execution_count": 4
        }
      ],
      "source": [
        "# Выведите его форму (shape)\n",
        "x.shape"
      ]
    },
    {
      "cell_type": "code",
      "execution_count": 5,
      "metadata": {
        "colab": {
          "base_uri": "https://localhost:8080/"
        },
        "id": "a7PliwO-rRxY",
        "outputId": "49cbf055-3974-48a3-a1cc-893ae5e8c063"
      },
      "outputs": [
        {
          "output_type": "execute_result",
          "data": {
            "text/plain": [
              "torch.Size([6, 10])"
            ]
          },
          "metadata": {},
          "execution_count": 5
        }
      ],
      "source": [
        "# Приведите его к форме 6 X 10\n",
        "x = x.view(6,10)\n",
        "x.shape"
      ]
    },
    {
      "cell_type": "code",
      "execution_count": 6,
      "metadata": {
        "colab": {
          "base_uri": "https://localhost:8080/"
        },
        "id": "w4x0psF4rRxY",
        "outputId": "6fcb3bec-613a-4d86-d25f-5bb24c548b88"
      },
      "outputs": [
        {
          "output_type": "execute_result",
          "data": {
            "text/plain": [
              "tensor([[  0,   4,   4,   6,   4],\n",
              "        [  5,  24,  14,  16,   9],\n",
              "        [ 10,  44,  24,  26,  14],\n",
              "        [ 15,  64,  34,  36,  19],\n",
              "        [ 20,  84,  44,  46,  24],\n",
              "        [ 25, 104,  54,  56,  29],\n",
              "        [ 30, 124,  64,  66,  34],\n",
              "        [ 35, 144,  74,  76,  39],\n",
              "        [ 40, 164,  84,  86,  44],\n",
              "        [ 45, 184,  94,  96,  49],\n",
              "        [ 50, 204, 104, 106,  54],\n",
              "        [ 55, 224, 114, 116,  59]])"
            ]
          },
          "metadata": {},
          "execution_count": 6
        }
      ],
      "source": [
        "# Умножьте его на вектор [1, 4, 2, 2, 1] поэлементно\n",
        "x.view(12,5) * torch.LongTensor([1, 4, 2, 2, 1]) "
      ]
    },
    {
      "cell_type": "code",
      "execution_count": 7,
      "metadata": {
        "colab": {
          "base_uri": "https://localhost:8080/"
        },
        "id": "wvXdfmr4rRxZ",
        "outputId": "af419639-4b85-41ad-85bd-b6d721633bcb"
      },
      "outputs": [
        {
          "output_type": "execute_result",
          "data": {
            "text/plain": [
              "torch.Size([6, 6])"
            ]
          },
          "metadata": {},
          "execution_count": 7
        }
      ],
      "source": [
        "# Умножьте тензор матрично на себя, чтобы результат был размерности 6x6\n",
        "torch.matmul(x, torch.transpose(x, 0, 1)).shape"
      ]
    },
    {
      "cell_type": "code",
      "execution_count": 8,
      "metadata": {
        "id": "ccJY9vNGrRxZ"
      },
      "outputs": [],
      "source": [
        "# Посчитайте производную функции y = x**3 + z - 75t в точке (1, 0.5, 2)\n",
        "#y' = 3*x**2 (3, 0.75, 12)"
      ]
    },
    {
      "cell_type": "code",
      "source": [
        "from torch.autograd import grad, Variable\n",
        "x = Variable(torch.HalfTensor([1, 0.5, 2]), requires_grad=True)\n",
        "x"
      ],
      "metadata": {
        "colab": {
          "base_uri": "https://localhost:8080/"
        },
        "id": "U2NqZfKa7CR2",
        "outputId": "21d6037f-bafa-44a1-b4ea-93acf3aec72b"
      },
      "execution_count": 105,
      "outputs": [
        {
          "output_type": "execute_result",
          "data": {
            "text/plain": [
              "tensor([1.0000, 0.5000, 2.0000], dtype=torch.float16, requires_grad=True)"
            ]
          },
          "metadata": {},
          "execution_count": 105
        }
      ]
    },
    {
      "cell_type": "code",
      "source": [
        "y = torch.sum(x**3)\n",
        "y"
      ],
      "metadata": {
        "colab": {
          "base_uri": "https://localhost:8080/"
        },
        "id": "1Kp4LKUK9qlE",
        "outputId": "01cb7eb6-e56d-4ef1-c641-010fa800e3a8"
      },
      "execution_count": 106,
      "outputs": [
        {
          "output_type": "execute_result",
          "data": {
            "text/plain": [
              "tensor(9.1250, dtype=torch.float16, grad_fn=<SumBackward0>)"
            ]
          },
          "metadata": {},
          "execution_count": 106
        }
      ]
    },
    {
      "cell_type": "code",
      "source": [
        "y.backward()"
      ],
      "metadata": {
        "id": "rLE9FB807tNE"
      },
      "execution_count": 108,
      "outputs": []
    },
    {
      "cell_type": "code",
      "source": [
        "x.grad"
      ],
      "metadata": {
        "colab": {
          "base_uri": "https://localhost:8080/"
        },
        "id": "lFMrhuHr-JF-",
        "outputId": "2aa23dc9-21ec-4f4b-8d70-9b2cb0ca4508"
      },
      "execution_count": 109,
      "outputs": [
        {
          "output_type": "execute_result",
          "data": {
            "text/plain": [
              "tensor([ 3.0000,  0.7500, 12.0000], dtype=torch.float16)"
            ]
          },
          "metadata": {},
          "execution_count": 109
        }
      ]
    },
    {
      "cell_type": "code",
      "execution_count": 83,
      "metadata": {
        "colab": {
          "base_uri": "https://localhost:8080/"
        },
        "id": "sLkx0rjbrRxa",
        "outputId": "a1b02f4f-4520-441c-8f64-d7cf7163fc0e"
      },
      "outputs": [
        {
          "output_type": "execute_result",
          "data": {
            "text/plain": [
              "tensor([[1., 1., 1., 1., 1., 1.],\n",
              "        [1., 1., 1., 1., 1., 1.],\n",
              "        [1., 1., 1., 1., 1., 1.],\n",
              "        [1., 1., 1., 1., 1., 1.],\n",
              "        [1., 1., 1., 1., 1., 1.]])"
            ]
          },
          "metadata": {},
          "execution_count": 83
        }
      ],
      "source": [
        "# Создайте единичный тензор размера 5x6\n",
        "x = torch.ones([5,6])\n",
        "x"
      ]
    },
    {
      "cell_type": "code",
      "execution_count": 15,
      "metadata": {
        "colab": {
          "base_uri": "https://localhost:8080/"
        },
        "id": "J1abqCBorRxb",
        "outputId": "3f233696-eac0-476e-de7f-1d28e67467ac"
      },
      "outputs": [
        {
          "output_type": "execute_result",
          "data": {
            "text/plain": [
              "array([[1., 1., 1., 1., 1., 1.],\n",
              "       [1., 1., 1., 1., 1., 1.],\n",
              "       [1., 1., 1., 1., 1., 1.],\n",
              "       [1., 1., 1., 1., 1., 1.],\n",
              "       [1., 1., 1., 1., 1., 1.]], dtype=float32)"
            ]
          },
          "metadata": {},
          "execution_count": 15
        }
      ],
      "source": [
        "# Переведите его в формат numpy\n",
        "x = x.numpy()\n",
        "x"
      ]
    },
    {
      "cell_type": "code",
      "execution_count": 16,
      "metadata": {
        "id": "Ds0acqb0rRxb"
      },
      "outputs": [],
      "source": [
        "# Давайте теперь пооптимизируем: возьмите функцию y = x**w1 - 2 * x**2 + 5\n",
        "# Посчитайте \n",
        "from torch import nn \n",
        "from torch import optim\n"
      ]
    },
    {
      "cell_type": "code",
      "source": [
        "# Задаём функцию потерь\n",
        "criterion = nn.MSELoss()"
      ],
      "metadata": {
        "id": "KUDQ0BpRrK5T"
      },
      "execution_count": 17,
      "outputs": []
    },
    {
      "cell_type": "code",
      "source": [
        "# Задаём переменные\n",
        "x = Variable(torch.randn(1), requires_grad = True)\n",
        "b = Variable(torch.Tensor([5]), requires_grad = True)\n",
        "w_1 = Variable(torch.randn(1), requires_grad = True)\n",
        "y = Variable(torch.randn(1), requires_grad = False)"
      ],
      "metadata": {
        "id": "ZMhFj_qcrK_S"
      },
      "execution_count": 51,
      "outputs": []
    },
    {
      "cell_type": "code",
      "source": [
        "# инициализируем оптимизатор\n",
        "optimizer = torch.optim.SGD((w_1, b), lr=0.01)"
      ],
      "metadata": {
        "id": "W9EZIXrdrK8U"
      },
      "execution_count": 52,
      "outputs": []
    },
    {
      "cell_type": "code",
      "source": [
        "print(\"x \", x)\n",
        "print(\"y \", y)"
      ],
      "metadata": {
        "colab": {
          "base_uri": "https://localhost:8080/"
        },
        "id": "J6P4h8AX0Hox",
        "outputId": "75e1e072-113a-488e-83da-679c15d9c563"
      },
      "execution_count": 53,
      "outputs": [
        {
          "output_type": "stream",
          "name": "stdout",
          "text": [
            "x  tensor([0.2160], requires_grad=True)\n",
            "y  tensor([1.0814])\n"
          ]
        }
      ]
    },
    {
      "cell_type": "code",
      "source": [
        "print(\"w \", w_1)\n",
        "print(\"b \", b)"
      ],
      "metadata": {
        "colab": {
          "base_uri": "https://localhost:8080/"
        },
        "id": "XvOFDosQzE6h",
        "outputId": "1ef1e78d-1de6-4d0a-dffa-3e3044a750eb"
      },
      "execution_count": 54,
      "outputs": [
        {
          "output_type": "stream",
          "name": "stdout",
          "text": [
            "w  tensor([0.8861], requires_grad=True)\n",
            "b  tensor([5.], requires_grad=True)\n"
          ]
        }
      ]
    },
    {
      "cell_type": "code",
      "source": [
        "print ('dL/dw: ', w_1.grad) \n",
        "print ('dL/db: ', b.grad)"
      ],
      "metadata": {
        "colab": {
          "base_uri": "https://localhost:8080/"
        },
        "id": "IkUfLxBszUUY",
        "outputId": "2d7e4993-1d04-411a-a322-b768010fc874"
      },
      "execution_count": 55,
      "outputs": [
        {
          "output_type": "stream",
          "name": "stdout",
          "text": [
            "dL/dw:  None\n",
            "dL/db:  None\n"
          ]
        }
      ]
    },
    {
      "cell_type": "code",
      "source": [
        "# Обнуляем градиенты и делаем прямой проход\n",
        "optimizer.zero_grad()\n",
        "pred = x**w_1 - 2 * x**2 + b\n",
        "loss = criterion(pred, y)\n",
        "print('loss: ', loss.item())\n"
      ],
      "metadata": {
        "colab": {
          "base_uri": "https://localhost:8080/"
        },
        "id": "4PJ8Ne8Ovwsq",
        "outputId": "ed52da01-00d8-4a3e-fc1c-9e2bb45ce438"
      },
      "execution_count": 56,
      "outputs": [
        {
          "output_type": "stream",
          "name": "stdout",
          "text": [
            "loss:  16.666105270385742\n"
          ]
        }
      ]
    },
    {
      "cell_type": "code",
      "source": [
        "loss.backward()"
      ],
      "metadata": {
        "id": "kD_eQnDMymaZ"
      },
      "execution_count": 57,
      "outputs": []
    },
    {
      "cell_type": "code",
      "source": [
        "print ('dL/dw: ', w_1.grad) \n",
        "print ('dL/db: ', b.grad)"
      ],
      "metadata": {
        "colab": {
          "base_uri": "https://localhost:8080/"
        },
        "id": "5MPCXWhwzcto",
        "outputId": "0302c0fd-844a-41ab-c13e-1907f6a88986"
      },
      "execution_count": 58,
      "outputs": [
        {
          "output_type": "stream",
          "name": "stdout",
          "text": [
            "dL/dw:  tensor([-3.2178])\n",
            "dL/db:  tensor([8.1648])\n"
          ]
        }
      ]
    },
    {
      "cell_type": "code",
      "source": [
        "optimizer.step()"
      ],
      "metadata": {
        "id": "h_LBoa3DwCWa"
      },
      "execution_count": 59,
      "outputs": []
    },
    {
      "cell_type": "code",
      "source": [
        "print(\"w \", w_1)\n",
        "print(\"b \", b)"
      ],
      "metadata": {
        "colab": {
          "base_uri": "https://localhost:8080/"
        },
        "id": "dujvPR8Q08fA",
        "outputId": "3f01418c-dcdc-41fd-9403-e5775668dad9"
      },
      "execution_count": 60,
      "outputs": [
        {
          "output_type": "stream",
          "name": "stdout",
          "text": [
            "w  tensor([0.9183], requires_grad=True)\n",
            "b  tensor([4.9184], requires_grad=True)\n"
          ]
        }
      ]
    }
  ],
  "metadata": {
    "kernelspec": {
      "display_name": "Python 3",
      "language": "python",
      "name": "python3"
    },
    "language_info": {
      "codemirror_mode": {
        "name": "ipython",
        "version": 3
      },
      "file_extension": ".py",
      "mimetype": "text/x-python",
      "name": "python",
      "nbconvert_exporter": "python",
      "pygments_lexer": "ipython3",
      "version": "3.7.4"
    },
    "colab": {
      "name": "Homework_lesson_1.ipynb",
      "provenance": [],
      "collapsed_sections": [],
      "include_colab_link": true
    }
  },
  "nbformat": 4,
  "nbformat_minor": 0
}